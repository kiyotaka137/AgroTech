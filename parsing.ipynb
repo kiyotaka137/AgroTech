{
 "cells": [
  {
   "metadata": {
    "ExecuteTime": {
     "end_time": "2025-09-28T19:29:48.978863Z",
     "start_time": "2025-09-28T19:29:41.146670Z"
    }
   },
   "cell_type": "code",
   "source": "!pip3 install camelot-py",
   "id": "42b69b068c83e871",
   "outputs": [
    {
     "name": "stdout",
     "output_type": "stream",
     "text": [
      "Collecting camelot-py\r\n",
      "  Downloading camelot_py-1.0.9-py3-none-any.whl.metadata (9.8 kB)\r\n",
      "Requirement already satisfied: click>=8.0.1 in /opt/anaconda3/lib/python3.12/site-packages (from camelot-py) (8.1.7)\r\n",
      "Collecting chardet>=5.1.0 (from camelot-py)\r\n",
      "  Downloading chardet-5.2.0-py3-none-any.whl.metadata (3.4 kB)\r\n",
      "Requirement already satisfied: numpy>=1.26.1 in /opt/anaconda3/lib/python3.12/site-packages (from camelot-py) (1.26.4)\r\n",
      "Requirement already satisfied: openpyxl>=3.1.0 in /opt/anaconda3/lib/python3.12/site-packages (from camelot-py) (3.1.2)\r\n",
      "Requirement already satisfied: pdfminer-six>=20240706 in /opt/anaconda3/lib/python3.12/site-packages (from camelot-py) (20250506)\r\n",
      "Collecting pypdf<6.0,>=4.0 (from camelot-py)\r\n",
      "  Downloading pypdf-5.9.0-py3-none-any.whl.metadata (7.1 kB)\r\n",
      "Requirement already satisfied: pandas>=2.2.2 in /opt/anaconda3/lib/python3.12/site-packages (from camelot-py) (2.2.2)\r\n",
      "Requirement already satisfied: tabulate>=0.9.0 in /opt/anaconda3/lib/python3.12/site-packages (from camelot-py) (0.9.0)\r\n",
      "Collecting opencv-python-headless>=4.7.0.68 (from camelot-py)\r\n",
      "  Downloading opencv_python_headless-4.12.0.88-cp37-abi3-macosx_13_0_arm64.whl.metadata (19 kB)\r\n",
      "Requirement already satisfied: pypdfium2>=4 in /opt/anaconda3/lib/python3.12/site-packages (from camelot-py) (4.30.0)\r\n",
      "Collecting pillow>=10.4.0 (from camelot-py)\r\n",
      "  Downloading pillow-11.3.0-cp312-cp312-macosx_11_0_arm64.whl.metadata (9.0 kB)\r\n",
      "Collecting numpy>=1.26.1 (from camelot-py)\r\n",
      "  Downloading numpy-2.2.6-cp312-cp312-macosx_14_0_arm64.whl.metadata (62 kB)\r\n",
      "Requirement already satisfied: et-xmlfile in /opt/anaconda3/lib/python3.12/site-packages (from openpyxl>=3.1.0->camelot-py) (1.1.0)\r\n",
      "Requirement already satisfied: python-dateutil>=2.8.2 in /opt/anaconda3/lib/python3.12/site-packages (from pandas>=2.2.2->camelot-py) (2.9.0.post0)\r\n",
      "Requirement already satisfied: pytz>=2020.1 in /opt/anaconda3/lib/python3.12/site-packages (from pandas>=2.2.2->camelot-py) (2024.1)\r\n",
      "Requirement already satisfied: tzdata>=2022.7 in /opt/anaconda3/lib/python3.12/site-packages (from pandas>=2.2.2->camelot-py) (2023.3)\r\n",
      "Requirement already satisfied: charset-normalizer>=2.0.0 in /opt/anaconda3/lib/python3.12/site-packages (from pdfminer-six>=20240706->camelot-py) (2.0.4)\r\n",
      "Requirement already satisfied: cryptography>=36.0.0 in /opt/anaconda3/lib/python3.12/site-packages (from pdfminer-six>=20240706->camelot-py) (42.0.5)\r\n",
      "Requirement already satisfied: cffi>=1.12 in /opt/anaconda3/lib/python3.12/site-packages (from cryptography>=36.0.0->pdfminer-six>=20240706->camelot-py) (1.16.0)\r\n",
      "Requirement already satisfied: pycparser in /opt/anaconda3/lib/python3.12/site-packages (from cffi>=1.12->cryptography>=36.0.0->pdfminer-six>=20240706->camelot-py) (2.21)\r\n",
      "Requirement already satisfied: six>=1.5 in /opt/anaconda3/lib/python3.12/site-packages (from python-dateutil>=2.8.2->pandas>=2.2.2->camelot-py) (1.16.0)\r\n",
      "Downloading camelot_py-1.0.9-py3-none-any.whl (66 kB)\r\n",
      "Downloading pypdf-5.9.0-py3-none-any.whl (313 kB)\r\n",
      "Downloading chardet-5.2.0-py3-none-any.whl (199 kB)\r\n",
      "Downloading opencv_python_headless-4.12.0.88-cp37-abi3-macosx_13_0_arm64.whl (37.9 MB)\r\n",
      "\u001B[2K   \u001B[90m━━━━━━━━━━━━━━━━━━━━━━━━━━━━━━━━━━━━━━━━\u001B[0m \u001B[32m37.9/37.9 MB\u001B[0m \u001B[31m17.1 MB/s\u001B[0m  \u001B[33m0:00:02\u001B[0m eta \u001B[36m0:00:01\u001B[0m\r\n",
      "\u001B[?25hDownloading numpy-2.2.6-cp312-cp312-macosx_14_0_arm64.whl (5.1 MB)\r\n",
      "\u001B[2K   \u001B[90m━━━━━━━━━━━━━━━━━━━━━━━━━━━━━━━━━━━━━━━━\u001B[0m \u001B[32m5.1/5.1 MB\u001B[0m \u001B[31m15.0 MB/s\u001B[0m  \u001B[33m0:00:00\u001B[0m eta \u001B[36m0:00:01\u001B[0m\r\n",
      "\u001B[?25hDownloading pillow-11.3.0-cp312-cp312-macosx_11_0_arm64.whl (4.7 MB)\r\n",
      "\u001B[2K   \u001B[90m━━━━━━━━━━━━━━━━━━━━━━━━━━━━━━━━━━━━━━━━\u001B[0m \u001B[32m4.7/4.7 MB\u001B[0m \u001B[31m15.3 MB/s\u001B[0m  \u001B[33m0:00:00\u001B[0m eta \u001B[36m0:00:01\u001B[0m\r\n",
      "\u001B[?25hInstalling collected packages: pypdf, pillow, numpy, chardet, opencv-python-headless, camelot-py\r\n",
      "\u001B[2K  Attempting uninstall: pillow\r\n",
      "\u001B[2K    Found existing installation: pillow 10.3.0\r\n",
      "\u001B[2K    Uninstalling pillow-10.3.0:\r\n",
      "\u001B[2K      Successfully uninstalled pillow-10.3.0\r\n",
      "\u001B[2K  Attempting uninstall: numpy[90m━━━━━━━━━━━━━━━━━━━━━━━━━━━━━━━━━\u001B[0m \u001B[32m1/6\u001B[0m [pillow]\r\n",
      "\u001B[2K    Found existing installation: numpy 1.26.4━━━━━━━━━━━━━━━━━\u001B[0m \u001B[32m1/6\u001B[0m [pillow]\r\n",
      "\u001B[2K    Uninstalling numpy-1.26.4:╺\u001B[0m\u001B[90m━━━━━━━━━━━━━━━━━━━━━━━━━━\u001B[0m \u001B[32m2/6\u001B[0m [numpy]\r\n",
      "\u001B[2K      Successfully uninstalled numpy-1.26.4━━━━━━━━━━━━━━━━━━━\u001B[0m \u001B[32m2/6\u001B[0m [numpy]\r\n",
      "\u001B[2K  Attempting uninstall: chardet\u001B[0m\u001B[90m━━━━━━━━━━━━━━━━━━━━━━━━━━\u001B[0m \u001B[32m2/6\u001B[0m [numpy]\r\n",
      "\u001B[2K    Found existing installation: chardet 4.0.0━━━━━━━━━━━━━━━━\u001B[0m \u001B[32m2/6\u001B[0m [numpy]\r\n",
      "\u001B[2K    Uninstalling chardet-4.0.0:\u001B[90m━━━━━━━━━━━━━━━━━━━━━━━━━━\u001B[0m \u001B[32m2/6\u001B[0m [numpy]\r\n",
      "\u001B[2K      Successfully uninstalled chardet-4.0.0━━━━━━━━━━━━━━━━━━\u001B[0m \u001B[32m2/6\u001B[0m [numpy]\r\n",
      "\u001B[2K   \u001B[90m━━━━━━━━━━━━━━━━━━━━━━━━━━━━━━━━━━━━━━━━\u001B[0m \u001B[32m6/6\u001B[0m [camelot-py]6\u001B[0m [opencv-python-headless]\r\n",
      "\u001B[1A\u001B[2K\u001B[31mERROR: pip's dependency resolver does not currently take into account all the packages that are installed. This behaviour is the source of the following dependency conflicts.\r\n",
      "contourpy 1.2.0 requires numpy<2.0,>=1.20, but you have numpy 2.2.6 which is incompatible.\r\n",
      "tensorflow 2.19.0 requires numpy<2.2.0,>=1.26.0, but you have numpy 2.2.6 which is incompatible.\r\n",
      "streamlit 1.32.0 requires numpy<2,>=1.19.3, but you have numpy 2.2.6 which is incompatible.\r\n",
      "streamlit 1.32.0 requires pillow<11,>=7.1.0, but you have pillow 11.3.0 which is incompatible.\r\n",
      "numba 0.59.1 requires numpy<1.27,>=1.22, but you have numpy 2.2.6 which is incompatible.\r\n",
      "pywavelets 1.5.0 requires numpy<2.0,>=1.22.4, but you have numpy 2.2.6 which is incompatible.\u001B[0m\u001B[31m\r\n",
      "\u001B[0mSuccessfully installed camelot-py-1.0.9 chardet-5.2.0 numpy-2.2.6 opencv-python-headless-4.12.0.88 pillow-11.3.0 pypdf-5.9.0\r\n"
     ]
    }
   ],
   "execution_count": 11
  },
  {
   "metadata": {
    "ExecuteTime": {
     "end_time": "2025-09-28T19:55:32.496161Z",
     "start_time": "2025-09-28T19:55:32.171604Z"
    }
   },
   "cell_type": "code",
   "source": [
    "import camelot\n",
    "import pandas as pd\n",
    "\n",
    "# 1. Читаем PDF\n",
    "tables = camelot.read_pdf(\n",
    "    \"Для Хакатона/ЭНА/Д0 Отчет_Д0 ЖК Колыбелка 28.04.2025_ЭНАПБ.pdf\",\n",
    "    pages=\"all\",\n",
    "    flavor=\"stream\",\n",
    ")\n",
    "\n",
    "print(f\"Найдено таблиц: {tables.n}\")\n",
    "\n",
    "for ind, table in enumerate(tables):\n",
    "    if ind == 2: break\n",
    "    df = table.df\n",
    "\n",
    "    merged_rows = []\n",
    "    skip_next = False\n",
    "\n",
    "    for i in range(len(df)):\n",
    "        if skip_next:\n",
    "            skip_next = False\n",
    "            continue\n",
    "\n",
    "        row = df.iloc[i].tolist()\n",
    "\n",
    "        if i + 1 < len(df):\n",
    "            next_row = df.iloc[i + 1].tolist()\n",
    "            empty_count = sum([1 for cell in next_row if cell.strip() == \"\"])\n",
    "\n",
    "            if empty_count >= len(next_row) - 1:\n",
    "                new_row = []\n",
    "                for col_idx in range(len(row)):\n",
    "                    combined = row[col_idx] + \" \" + next_row[col_idx] if next_row[col_idx].strip() != \"\" else row[col_idx]\n",
    "                    new_row.append(combined.strip())\n",
    "                merged_rows.append(new_row)\n",
    "                skip_next = True\n",
    "            else:\n",
    "                merged_rows.append(row)\n",
    "        else:\n",
    "            merged_rows.append(row)\n",
    "\n",
    "    df_merged = pd.DataFrame(merged_rows)\n",
    "\n",
    "    # Сохраняем таблицу с уникальным именем\n",
    "    df_merged.to_csv(f\"merged_table_{ind}.csv\", index=False, encoding=\"utf-8-sig\")\n",
    "    print(f\"Таблица сохранена в merged_table_{ind}.csv\")\n"
   ],
   "id": "2b6503cc68b1899c",
   "outputs": [
    {
     "name": "stdout",
     "output_type": "stream",
     "text": [
      "Найдено таблиц: 6\n",
      "Таблица сохранена в merged_table_0.csv\n",
      "Таблица сохранена в merged_table_1.csv\n"
     ]
    }
   ],
   "execution_count": 30
  },
  {
   "metadata": {},
   "cell_type": "code",
   "outputs": [],
   "execution_count": null,
   "source": "",
   "id": "323b118b72027992"
  }
 ],
 "metadata": {
  "kernelspec": {
   "display_name": "Python 3",
   "language": "python",
   "name": "python3"
  },
  "language_info": {
   "codemirror_mode": {
    "name": "ipython",
    "version": 2
   },
   "file_extension": ".py",
   "mimetype": "text/x-python",
   "name": "python",
   "nbconvert_exporter": "python",
   "pygments_lexer": "ipython2",
   "version": "2.7.6"
  }
 },
 "nbformat": 4,
 "nbformat_minor": 5
}
